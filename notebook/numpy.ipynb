{
 "cells": [
  {
   "cell_type": "markdown",
   "metadata": {},
   "source": [
    "### Importing Libraries"
   ]
  },
  {
   "cell_type": "code",
   "execution_count": 1,
   "metadata": {},
   "outputs": [],
   "source": [
    "import numpy as np\n",
    "import pandas as pd"
   ]
  },
  {
   "cell_type": "code",
   "execution_count": 59,
   "metadata": {},
   "outputs": [],
   "source": [
    "df = pd.read_csv(\"C:\\\\Users\\\\khati\\\\GITHUB\\\\python\\\\dataset\\\\netflix_titles_2021.csv\")\n"
   ]
  },
  {
   "cell_type": "markdown",
   "metadata": {},
   "source": [
    "### Converting each column into numpy array"
   ]
  },
  {
   "cell_type": "code",
   "execution_count": 12,
   "metadata": {},
   "outputs": [],
   "source": [
    "all_col = []\n",
    "for colName in df:\n",
    "    colName = df[colName].dropna().to_numpy()\n",
    "    all_col.append(colName)"
   ]
  },
  {
   "cell_type": "code",
   "execution_count": 23,
   "metadata": {},
   "outputs": [
    {
     "data": {
      "text/plain": [
       "8807"
      ]
     },
     "execution_count": 23,
     "metadata": {},
     "output_type": "execute_result"
    }
   ],
   "source": [
    "all_col[0].size"
   ]
  },
  {
   "cell_type": "markdown",
   "metadata": {},
   "source": [
    "### Column Name : Type"
   ]
  },
  {
   "cell_type": "code",
   "execution_count": 24,
   "metadata": {},
   "outputs": [
    {
     "data": {
      "text/plain": [
       "array(['Movie', 'TV Show', 'TV Show', ..., 'Movie', 'Movie', 'Movie'],\n",
       "      shape=(8807,), dtype=object)"
      ]
     },
     "execution_count": 24,
     "metadata": {},
     "output_type": "execute_result"
    }
   ],
   "source": [
    "type_col = df['type'].dropna().to_numpy()\n",
    "type_col"
   ]
  },
  {
   "cell_type": "code",
   "execution_count": 27,
   "metadata": {},
   "outputs": [
    {
     "name": "stdout",
     "output_type": "stream",
     "text": [
      "['Movie' 'TV Show']\n",
      "[6131 2676]\n"
     ]
    }
   ],
   "source": [
    "unique_type,count = np.unique(type_col,return_counts=True)\n",
    "print(unique_type)\n",
    "print(count)"
   ]
  },
  {
   "cell_type": "markdown",
   "metadata": {},
   "source": [
    "### Column Name: Country"
   ]
  },
  {
   "cell_type": "code",
   "execution_count": 36,
   "metadata": {},
   "outputs": [
    {
     "data": {
      "text/plain": [
       "array(['United States', 'South Africa', 'India', ..., 'United States',\n",
       "       'United States', 'India'], shape=(7976,), dtype=object)"
      ]
     },
     "execution_count": 36,
     "metadata": {},
     "output_type": "execute_result"
    }
   ],
   "source": [
    "country = df['country'].dropna().to_numpy()\n",
    "country"
   ]
  },
  {
   "cell_type": "code",
   "execution_count": 30,
   "metadata": {},
   "outputs": [
    {
     "name": "stdout",
     "output_type": "stream",
     "text": [
      "[', France, Algeria' ', South Korea' 'Argentina'\n",
      " 'Argentina, Brazil, France, Poland, Germany, Denmark' 'Argentina, Chile'\n",
      " 'Argentina, Chile, Peru' 'Argentina, France'\n",
      " 'Argentina, France, United States, Germany, Qatar' 'Argentina, Italy'\n",
      " 'Argentina, Spain' 'Argentina, United States'\n",
      " 'Argentina, United States, Mexico' 'Argentina, Uruguay, Serbia'\n",
      " 'Argentina, Uruguay, Spain, France' 'Argentina, Venezuela' 'Australia'\n",
      " 'Australia, Armenia, Japan, Jordan, Mexico, Mongolia, New Zealand, Philippines, South Africa, Sweden, United States, Uruguay'\n",
      " 'Australia, Canada' 'Australia, France' 'Australia, France, Ireland'\n",
      " 'Australia, Germany' 'Australia, India' 'Australia, Iraq'\n",
      " 'Australia, New Zealand' 'Australia, New Zealand, United States'\n",
      " 'Australia, United Arab Emirates' 'Australia, United Kingdom'\n",
      " 'Australia, United Kingdom, Canada'\n",
      " 'Australia, United Kingdom, United Arab Emirates, Canada'\n",
      " 'Australia, United Kingdom, United States, New Zealand, Italy, France'\n",
      " 'Australia, United States' 'Austria' 'Austria, Czech Republic'\n",
      " 'Austria, Germany' 'Austria, Iraq, United States'\n",
      " 'Austria, United States' 'Bangladesh' 'Belarus' 'Belgium'\n",
      " 'Belgium, France' 'Belgium, France, Netherlands'\n",
      " 'Belgium, Ireland, Netherlands, Germany, Afghanistan'\n",
      " 'Belgium, Netherlands' 'Belgium, United Kingdom'\n",
      " 'Belgium, United Kingdom, United States' 'Brazil' 'Brazil, France'\n",
      " 'Brazil, France, Germany' 'Brazil, India, China, United States'\n",
      " 'Brazil, Netherlands, United States, Colombia, Austria, Germany'\n",
      " 'Brazil, United Kingdom' 'Brazil, United States' 'Bulgaria'\n",
      " 'Bulgaria, United States' 'Bulgaria, United States, Spain, Canada'\n",
      " 'Cambodia' 'Cambodia, United States' 'Cameroon' 'Canada'\n",
      " 'Canada, Australia' 'Canada, Belgium' 'Canada, Brazil' 'Canada, France'\n",
      " 'Canada, France, Italy, Morocco, United States'\n",
      " 'Canada, France, United States' 'Canada, Germany'\n",
      " 'Canada, Germany, France, United States' 'Canada, Germany, South Africa'\n",
      " 'Canada, Hungary, United States' 'Canada, India'\n",
      " 'Canada, India, Thailand, United States, United Arab Emirates'\n",
      " 'Canada, Ireland, United States' 'Canada, Japan, Netherlands'\n",
      " 'Canada, Japan, United States' 'Canada, Luxembourg'\n",
      " 'Canada, Mexico, Germany, South Africa' 'Canada, Nigeria'\n",
      " 'Canada, Nigeria, United States' 'Canada, Norway' 'Canada, South Africa'\n",
      " 'Canada, South Korea, United States' 'Canada, Spain'\n",
      " 'Canada, Spain, France' 'Canada, United Kingdom'\n",
      " 'Canada, United Kingdom, Netherlands'\n",
      " 'Canada, United Kingdom, United States' 'Canada, United States'\n",
      " 'Canada, United States, Cayman Islands' 'Canada, United States, Denmark'\n",
      " 'Canada, United States, France' 'Canada, United States, Germany'\n",
      " 'Canada, United States, India, United Kingdom'\n",
      " 'Canada, United States, Ireland' 'Canada, United States, Mexico'\n",
      " 'Canada, United States, United Kingdom'\n",
      " 'Canada, United States, United Kingdom, France, Luxembourg' 'Chile'\n",
      " 'Chile, Argentina' 'Chile, Argentina, France, Spain, United States'\n",
      " 'Chile, Brazil' 'Chile, France' 'Chile, Italy' 'Chile, Peru'\n",
      " 'Chile, Spain, Argentina, Germany' 'Chile, United States, France' 'China'\n",
      " 'China, Canada, United States' 'China, Germany, India, United States'\n",
      " 'China, Hong Kong' 'China, Hong Kong, United States'\n",
      " 'China, India, Nepal' 'China, Japan' 'China, Morocco, Hong Kong'\n",
      " 'China, South Korea, United States'\n",
      " 'China, Spain, South Korea, United States' 'China, Taiwan'\n",
      " 'China, United Kingdom' 'China, United States'\n",
      " 'China, United States, Australia' 'China, United States, Canada'\n",
      " 'China, United States, United Kingdom' 'Colombia' 'Colombia, Mexico'\n",
      " 'Colombia, Mexico, United States' 'Colombia, Peru, United Kingdom'\n",
      " 'Colombia, United States' 'Croatia'\n",
      " 'Croatia, Slovenia, Serbia, Montenegro' 'Cyprus' 'Czech Republic, France'\n",
      " 'Czech Republic, Slovakia' 'Czech Republic, United Kingdom, France'\n",
      " 'Czech Republic, United Kingdom, United States'\n",
      " 'Czech Republic, United States' 'Denmark'\n",
      " 'Denmark, Brazil, France, Portugal, Sweden' 'Denmark, China'\n",
      " 'Denmark, France, Belgium, Italy, Netherlands, United States, United Kingdom'\n",
      " 'Denmark, France, Poland' 'Denmark, France, United States, Sweden'\n",
      " 'Denmark, Germany, Belgium, United Kingdom, France'\n",
      " 'Denmark, Germany, Belgium, United Kingdom, France, Sweden'\n",
      " 'Denmark, Indonesia, Finland, Norway, United Kingdom, Israel, France, United States, Germany, Netherlands'\n",
      " 'Denmark, Singapore, Canada, United States' 'Denmark, Spain'\n",
      " 'Denmark, Sweden, Israel, United States'\n",
      " 'Denmark, United Kingdom, South Africa, Sweden, Belgium'\n",
      " 'Denmark, United Kingdom, Sweden' 'Denmark, United States'\n",
      " 'Denmark, Zimbabwe' 'Egypt' 'Egypt, Algeria'\n",
      " 'Egypt, Austria, United States' 'Egypt, Denmark, Germany' 'Egypt, France'\n",
      " 'Egypt, Saudi Arabia' 'Finland' 'Finland, France' 'Finland, Germany'\n",
      " 'Finland, Germany, Belgium' 'Finland, Sweden, Norway, Latvia, Germany'\n",
      " 'Finland, United States' 'France' 'France, Algeria'\n",
      " 'France, Australia, Germany' 'France, Belgium'\n",
      " 'France, Belgium, China, United States' 'France, Belgium, Italy'\n",
      " 'France, Belgium, Luxembourg, Cambodia,'\n",
      " 'France, Belgium, Luxembourg, Romania, Canada, United States'\n",
      " 'France, Belgium, Spain' 'France, Belgium, United States'\n",
      " 'France, Brazil, Spain, Belgium' 'France, Canada'\n",
      " 'France, Canada, Belgium' 'France, Canada, China, Cambodia'\n",
      " 'France, Canada, Italy, United States, China'\n",
      " 'France, Canada, United States' 'France, Canada, United States, Spain'\n",
      " 'France, China, Japan, United States' 'France, Egypt' 'France, Germany'\n",
      " 'France, Germany, Czech Republic, Belgium' 'France, Germany, Switzerland'\n",
      " 'France, Iran, United States'\n",
      " 'France, Israel, Germany, United States, United Kingdom' 'France, Japan'\n",
      " 'France, Japan, United States' 'France, Lebanon'\n",
      " 'France, Lebanon, United Kingdom' 'France, Luxembourg, Canada'\n",
      " 'France, Luxembourg, United States' 'France, Malta, United States'\n",
      " 'France, Morocco' 'France, Netherlands, Singapore'\n",
      " 'France, Netherlands, South Africa, Finland' 'France, New Zealand'\n",
      " 'France, Norway, Lebanon, Belgium' 'France, Qatar'\n",
      " 'France, Senegal, Belgium' 'France, South Korea, Japan'\n",
      " 'France, South Korea, Japan, United States'\n",
      " 'France, Switzerland, Spain, United States, United Arab Emirates'\n",
      " 'France, United Kingdom' 'France, United Kingdom, India'\n",
      " 'France, United Kingdom, United States' 'France, United States'\n",
      " 'France, United States, Canada' 'France, United States, Mexico'\n",
      " 'France, United States, United Kingdom, Canada' 'Georgia'\n",
      " 'Georgia, Germany, France' 'Germany' 'Germany, Australia'\n",
      " 'Germany, Australia, France, China' 'Germany, Belgium'\n",
      " 'Germany, Canada, United States' 'Germany, China, United Kingdom'\n",
      " 'Germany, Czech Republic' 'Germany, France'\n",
      " 'Germany, France, Luxembourg, United Kingdom, United States'\n",
      " 'Germany, France, Russia'\n",
      " 'Germany, France, United States, Canada, United Kingdom' 'Germany, Italy'\n",
      " 'Germany, Jordan, Netherlands' 'Germany, Sri Lanka'\n",
      " 'Germany, United Kingdom' 'Germany, United Kingdom, United States'\n",
      " 'Germany, United States' 'Germany, United States, Canada'\n",
      " 'Germany, United States, France'\n",
      " 'Germany, United States, Hong Kong, Singapore'\n",
      " 'Germany, United States, Italy' 'Germany, United States, Sweden'\n",
      " 'Germany, United States, United Kingdom, Canada' 'Ghana'\n",
      " 'Ghana, United States' 'Greece, United States' 'Guatemala' 'Hong Kong'\n",
      " 'Hong Kong, Canada, United States' 'Hong Kong, China'\n",
      " 'Hong Kong, China, Singapore' 'Hong Kong, China, United States'\n",
      " 'Hong Kong, Iceland, United States' 'Hong Kong, Taiwan'\n",
      " 'Hong Kong, United States' 'Hungary' 'Hungary, United States' 'Iceland'\n",
      " 'Iceland, Sweden, Belgium' 'India' 'India, Australia' 'India, Canada'\n",
      " 'India, France' 'India, Germany' 'India, Germany, Austria'\n",
      " 'India, Germany, France' 'India, Iran' 'India, Japan' 'India, Malaysia'\n",
      " 'India, Mexico' 'India, Nepal' 'India, Pakistan' 'India, Soviet Union'\n",
      " 'India, Switzerland' 'India, Turkey' 'India, United Kingdom'\n",
      " 'India, United Kingdom, Canada, United States'\n",
      " 'India, United Kingdom, China, Canada, Japan, South Korea, United States'\n",
      " 'India, United Kingdom, France, Qatar' 'India, United States' 'Indonesia'\n",
      " 'Indonesia, Netherlands' 'Indonesia, Singapore'\n",
      " 'Indonesia, South Korea, Singapore' 'Indonesia, United Kingdom'\n",
      " 'Indonesia, United States' 'Iran, France' 'Ireland' 'Ireland, Canada'\n",
      " 'Ireland, Canada, Luxembourg, United States, United Kingdom, Philippines, India'\n",
      " 'Ireland, Canada, United Kingdom, United States'\n",
      " 'Ireland, Canada, United States, United Kingdom'\n",
      " 'Ireland, France, Iceland, United States, Mexico, Belgium, United Kingdom, Hong Kong'\n",
      " 'Ireland, Luxembourg, Belgium' 'Ireland, South Africa'\n",
      " 'Ireland, Switzerland, United Kingdom, France, United States'\n",
      " 'Ireland, United Kingdom' 'Ireland, United Kingdom, France, Germany'\n",
      " 'Ireland, United Kingdom, Greece, France, Netherlands'\n",
      " 'Ireland, United Kingdom, Italy, United States'\n",
      " 'Ireland, United Kingdom, United States' 'Ireland, United States'\n",
      " 'Ireland, United States, France' 'Ireland, United States, United Kingdom'\n",
      " 'Israel' 'Israel, Germany' 'Israel, Germany, France'\n",
      " 'Israel, Germany, Poland, Luxembourg, Belgium, France, United States'\n",
      " 'Israel, Sweden, Germany, Netherlands' 'Israel, United States' 'Italy'\n",
      " 'Italy, Belgium' 'Italy, Brazil, Greece' 'Italy, Canada, France'\n",
      " 'Italy, France' 'Italy, France, Switzerland' 'Italy, Germany'\n",
      " 'Italy, India'\n",
      " 'Italy, South Africa, West Germany, Australia, United States'\n",
      " 'Italy, Switzerland, Albania, Poland'\n",
      " 'Italy, Switzerland, France, Germany' 'Italy, Turkey'\n",
      " 'Italy, United Kingdom' 'Italy, United Kingdom, France'\n",
      " 'Italy, United States' 'Italy, United States, Argentina'\n",
      " 'Jamaica, United States' 'Japan' 'Japan, Canada'\n",
      " 'Japan, Canada, United States' 'Japan, United States' 'Jordan' 'Kenya'\n",
      " 'Kenya, United States' 'Kuwait' 'Kuwait, United States' 'Lebanon'\n",
      " 'Lebanon, Canada, France' 'Lebanon, France'\n",
      " 'Lebanon, Palestine, Denmark, Qatar' 'Lebanon, Qatar' 'Lebanon, Syria'\n",
      " 'Lebanon, United Arab Emirates'\n",
      " 'Lebanon, United Arab Emirates, France, Switzerland, Germany'\n",
      " 'Lebanon, United States, United Arab Emirates' 'Luxembourg' 'Malaysia'\n",
      " 'Malaysia, Singapore, Hong Kong' 'Mauritius' 'Mauritius, South Africa'\n",
      " 'Mexico' 'Mexico, Argentina' 'Mexico, Brazil' 'Mexico, Finland'\n",
      " 'Mexico, France' 'Mexico, France, Colombia' 'Mexico, Netherlands'\n",
      " 'Mexico, Spain' 'Mexico, United States'\n",
      " 'Mexico, United States, Spain, Colombia' 'Mozambique' 'Namibia'\n",
      " 'Netherlands' 'Netherlands, Belgium'\n",
      " 'Netherlands, Belgium, Germany, Jordan'\n",
      " 'Netherlands, Belgium, United Kingdom, United States'\n",
      " 'Netherlands, Denmark, France, Germany'\n",
      " 'Netherlands, Denmark, South Africa'\n",
      " 'Netherlands, Germany, Denmark, United Kingdom'\n",
      " 'Netherlands, Germany, Italy, Canada' 'Netherlands, United States'\n",
      " 'New Zealand' 'New Zealand, Australia, France, United States'\n",
      " 'New Zealand, United Kingdom' 'New Zealand, United Kingdom, Australia'\n",
      " 'New Zealand, United States' 'Nigeria' 'Nigeria, United Kingdom' 'Norway'\n",
      " 'Norway, Denmark' 'Norway, Denmark, Netherlands, Sweden'\n",
      " 'Norway, Denmark, Sweden' 'Norway, Germany' 'Norway, Germany, Sweden'\n",
      " 'Norway, Iceland, United States' 'Norway, Sweden'\n",
      " 'Norway, United Kingdom, France, Ireland' 'Norway, United States'\n",
      " 'Pakistan' 'Pakistan, Norway, United States'\n",
      " 'Pakistan, United Arab Emirates' 'Pakistan, United States'\n",
      " 'Paraguay, Argentina' 'Peru' 'Peru, Germany, Norway'\n",
      " 'Peru, United States, United Kingdom' 'Philippines'\n",
      " 'Philippines, Canada, United Kingdom, United States' 'Philippines, Qatar'\n",
      " 'Philippines, Singapore' 'Philippines, Singapore, Indonesia'\n",
      " 'Philippines, United States' 'Poland' 'Poland,' 'Poland, United States'\n",
      " 'Poland, West Germany' 'Portugal, France, Poland, United States'\n",
      " 'Portugal, Spain' 'Portugal, United States'\n",
      " 'Puerto Rico, United States, Colombia' 'Romania'\n",
      " 'Romania, Bulgaria, Hungary' 'Romania, France, Switzerland, Germany'\n",
      " 'Romania, United Kingdom' 'Romania, United States' 'Russia'\n",
      " 'Russia, Poland, Serbia' 'Russia, Spain' 'Russia, United States'\n",
      " 'Russia, United States, China' 'Saudi Arabia'\n",
      " 'Saudi Arabia, Netherlands, Germany, Jordan, United Arab Emirates, United States'\n",
      " 'Saudi Arabia, Syria, Egypt, Lebanon, Kuwait'\n",
      " 'Saudi Arabia, United Arab Emirates' 'Senegal'\n",
      " 'Serbia, South Korea, Slovenia' 'Serbia, United States' 'Singapore'\n",
      " 'Singapore, France' 'Singapore, Japan, France' 'Singapore, Malaysia'\n",
      " 'Singapore, United States'\n",
      " 'Slovenia, Croatia, Germany, Czech Republic, Qatar'\n",
      " 'Somalia, Kenya, Sudan, South Africa, United States' 'South Africa'\n",
      " 'South Africa, Angola' 'South Africa, China, United States'\n",
      " 'South Africa, Germany, Netherlands, France' 'South Africa, Nigeria'\n",
      " 'South Africa, United States' 'South Africa, United States, Germany'\n",
      " 'South Africa, United States, Japan'\n",
      " 'South Africa, United States, New Zealand, Canada' 'South Korea'\n",
      " 'South Korea, Canada, United States, China' 'South Korea, China'\n",
      " 'South Korea, China, United States' 'South Korea, Czech Republic'\n",
      " 'South Korea, France' 'South Korea, Japan' 'South Korea, United States'\n",
      " 'Soviet Union, India' 'Spain' 'Spain, Argentina' 'Spain, Belgium'\n",
      " 'Spain, Belgium, United States' 'Spain, Canada, United States'\n",
      " 'Spain, Colombia' 'Spain, Cuba' 'Spain, France' 'Spain, France, Canada'\n",
      " 'Spain, France, Canada, United States' 'Spain, France, Italy'\n",
      " 'Spain, France, United Kingdom, United States'\n",
      " 'Spain, France, United States' 'Spain, France, Uruguay' 'Spain, Germany'\n",
      " 'Spain, Germany, Denmark, United States' 'Spain, Italy'\n",
      " 'Spain, Italy, Argentina' 'Spain, Mexico' 'Spain, Mexico, France'\n",
      " 'Spain, Portugal' 'Spain, Switzerland' 'Spain, Thailand, United States'\n",
      " 'Spain, United Kingdom' 'Spain, United Kingdom, United States'\n",
      " 'Spain, United States' 'Sweden'\n",
      " 'Sweden, Czech Republic, United Kingdom, Denmark, Netherlands'\n",
      " 'Sweden, Netherlands' 'Sweden, United Kingdom, Finland'\n",
      " 'Sweden, United States' 'Switzerland' 'Switzerland, France'\n",
      " 'Switzerland, France, Belgium, United States'\n",
      " 'Switzerland, United Kingdom, Australia'\n",
      " 'Switzerland, United Kingdom, United States' 'Switzerland, United States'\n",
      " 'Switzerland, Vatican City, Italy, Germany, France'\n",
      " 'Syria, France, Lebanon, Qatar' 'Taiwan' 'Taiwan, China'\n",
      " 'Taiwan, China, France, United States'\n",
      " 'Taiwan, Hong Kong, United States, China' 'Taiwan, Malaysia' 'Thailand'\n",
      " 'Thailand, Canada, United States' 'Thailand, China, United States'\n",
      " 'Thailand, United States' 'Turkey' 'Turkey, Azerbaijan'\n",
      " 'Turkey, France, Germany, Poland' 'Turkey, India' 'Turkey, South Korea'\n",
      " 'Turkey, United States' 'Ukraine' 'United Arab Emirates'\n",
      " 'United Arab Emirates, Jordan'\n",
      " 'United Arab Emirates, Jordan, Lebanon, Saudi Arabia'\n",
      " 'United Arab Emirates, Romania'\n",
      " 'United Arab Emirates, United Kingdom, India'\n",
      " 'United Arab Emirates, United States'\n",
      " 'United Arab Emirates, United States, United Kingdom' 'United Kingdom'\n",
      " 'United Kingdom,' 'United Kingdom, Australia'\n",
      " 'United Kingdom, Australia, Canada, United States'\n",
      " 'United Kingdom, Australia, France'\n",
      " 'United Kingdom, Australia, France, United States'\n",
      " 'United Kingdom, Australia, United States' 'United Kingdom, Belgium'\n",
      " 'United Kingdom, Belgium, Sweden' 'United Kingdom, Brazil, Germany'\n",
      " 'United Kingdom, Canada' 'United Kingdom, Canada, France, United States'\n",
      " 'United Kingdom, Canada, Italy' 'United Kingdom, Canada, Japan'\n",
      " 'United Kingdom, Canada, United States'\n",
      " 'United Kingdom, Canada, United States, Cayman Islands'\n",
      " 'United Kingdom, Canada, United States, Germany' 'United Kingdom, China'\n",
      " 'United Kingdom, China, United States'\n",
      " 'United Kingdom, China, United States, India'\n",
      " 'United Kingdom, Czech Republic, Germany, United States'\n",
      " 'United Kingdom, Czech Republic, United States, Germany, Bahamas'\n",
      " 'United Kingdom, Denmark, Canada, Croatia'\n",
      " 'United Kingdom, Egypt, United States'\n",
      " 'United Kingdom, Finland, Germany, United States, Australia, Japan, France, Ireland'\n",
      " 'United Kingdom, France' 'United Kingdom, France, Belgium'\n",
      " 'United Kingdom, France, Belgium, Canada, United States'\n",
      " 'United Kingdom, France, Belgium, Ireland, United States'\n",
      " 'United Kingdom, France, Belgium, United States'\n",
      " 'United Kingdom, France, Canada, Belgium, United States'\n",
      " 'United Kingdom, France, Germany'\n",
      " 'United Kingdom, France, Germany, Spain'\n",
      " 'United Kingdom, France, Germany, United States'\n",
      " 'United Kingdom, France, Poland, Germany, United States'\n",
      " 'United Kingdom, France, Spain, United States'\n",
      " 'United Kingdom, France, United States'\n",
      " 'United Kingdom, France, United States, Belgium'\n",
      " 'United Kingdom, France, United States, Belgium, Luxembourg, China, Germany'\n",
      " 'United Kingdom, Germany' 'United Kingdom, Germany, Canada'\n",
      " 'United Kingdom, Germany, Canada, United States'\n",
      " 'United Kingdom, Germany, France, United States'\n",
      " 'United Kingdom, Germany, Spain, United States'\n",
      " 'United Kingdom, Germany, United Arab Emirates, New Zealand'\n",
      " 'United Kingdom, Germany, United States'\n",
      " 'United Kingdom, Germany, United States, France'\n",
      " 'United Kingdom, Hong Kong' 'United Kingdom, Hungary, Australia'\n",
      " 'United Kingdom, India' 'United Kingdom, India, Sweden'\n",
      " 'United Kingdom, India, United States' 'United Kingdom, Ireland'\n",
      " 'United Kingdom, Ireland, United States' 'United Kingdom, Israel, Russia'\n",
      " 'United Kingdom, Italy'\n",
      " 'United Kingdom, Italy, Israel, Peru, United States'\n",
      " 'United Kingdom, Japan' 'United Kingdom, Japan, United States'\n",
      " 'United Kingdom, Jordan, Qatar, Iran' 'United Kingdom, Kenya'\n",
      " 'United Kingdom, Lithuania' 'United Kingdom, Malawi'\n",
      " 'United Kingdom, Namibia, South Africa, Zimbabwe, United States'\n",
      " 'United Kingdom, New Zealand' 'United Kingdom, Nigeria'\n",
      " 'United Kingdom, Norway, Denmark, Germany, Sweden'\n",
      " 'United Kingdom, Pakistan' 'United Kingdom, Poland'\n",
      " 'United Kingdom, Poland, United States' 'United Kingdom, Russia'\n",
      " 'United Kingdom, Russia, United States' 'United Kingdom, Singapore'\n",
      " 'United Kingdom, South Africa'\n",
      " 'United Kingdom, South Africa, Australia, United States'\n",
      " 'United Kingdom, South Africa, France' 'United Kingdom, South Korea'\n",
      " 'United Kingdom, Spain' 'United Kingdom, Spain, Belgium'\n",
      " 'United Kingdom, Spain, United States'\n",
      " 'United Kingdom, Spain, United States, Germany'\n",
      " 'United Kingdom, Thailand' 'United Kingdom, Ukraine, United States'\n",
      " 'United Kingdom, United States'\n",
      " 'United Kingdom, United States, Australia'\n",
      " 'United Kingdom, United States, Canada'\n",
      " 'United Kingdom, United States, Czech Republic'\n",
      " 'United Kingdom, United States, Dominican Republic'\n",
      " 'United Kingdom, United States, France'\n",
      " 'United Kingdom, United States, France, Germany'\n",
      " 'United Kingdom, United States, France, Italy'\n",
      " 'United Kingdom, United States, Germany, Denmark, Belgium, Japan'\n",
      " 'United Kingdom, United States, Ireland'\n",
      " 'United Kingdom, United States, Japan'\n",
      " 'United Kingdom, United States, Morocco'\n",
      " 'United Kingdom, United States, Spain, Germany, Greece, Canada'\n",
      " 'United Kingdom, West Germany' 'United States' 'United States,'\n",
      " 'United States, Argentina' 'United States, Australia'\n",
      " 'United States, Australia, China' 'United States, Australia, Mexico'\n",
      " 'United States, Australia, Samoa, United Kingdom'\n",
      " 'United States, Australia, South Africa, United Kingdom'\n",
      " 'United States, Belgium, Canada, France'\n",
      " 'United States, Bermuda, Ecuador' 'United States, Botswana'\n",
      " 'United States, Brazil' 'United States, Brazil, India, Uganda, China'\n",
      " 'United States, Brazil, Japan, Spain, India'\n",
      " 'United States, Brazil, South Korea, Mexico, Japan, Germany'\n",
      " 'United States, Bulgaria' 'United States, Cambodia'\n",
      " 'United States, Cambodia, Romania' 'United States, Canada'\n",
      " 'United States, Canada, Belgium, United Kingdom'\n",
      " 'United States, Canada, China' 'United States, Canada, France'\n",
      " 'United States, Canada, Germany'\n",
      " 'United States, Canada, Indonesia, United Kingdom, China, Singapore'\n",
      " 'United States, Canada, Ireland' 'United States, Canada, Japan, Panama'\n",
      " 'United States, Canada, United Kingdom' 'United States, Chile'\n",
      " 'United States, Chile, Israel' 'United States, China'\n",
      " 'United States, China, Canada' 'United States, China, Colombia'\n",
      " 'United States, China, Hong Kong' 'United States, China, United Kingdom'\n",
      " 'United States, Colombia' 'United States, Colombia, Mexico'\n",
      " 'United States, Czech Republic'\n",
      " 'United States, Czech Republic, United Kingdom' 'United States, Denmark'\n",
      " 'United States, East Germany, West Germany' 'United States, France'\n",
      " 'United States, France, Canada' 'United States, France, Canada, Belgium'\n",
      " 'United States, France, Canada, Lebanon, Qatar'\n",
      " 'United States, France, Canada, Spain' 'United States, France, Denmark'\n",
      " 'United States, France, Italy, United Kingdom'\n",
      " 'United States, France, Japan' 'United States, France, Mexico'\n",
      " 'United States, France, Serbia'\n",
      " 'United States, France, South Korea, Indonesia'\n",
      " 'United States, France, United Kingdom'\n",
      " 'United States, France, United Kingdom, Japan' 'United States, Germany'\n",
      " 'United States, Germany, Australia' 'United States, Germany, Canada'\n",
      " 'United States, Germany, Mexico' 'United States, Germany, United Kingdom'\n",
      " 'United States, Germany, United Kingdom, Australia'\n",
      " 'United States, Germany, United Kingdom, Italy'\n",
      " 'United States, Ghana, Burkina Faso, United Kingdom, Germany, Ethiopia'\n",
      " 'United States, Greece' 'United States, Greece, Brazil'\n",
      " 'United States, Greece, United Kingdom' 'United States, Hong Kong'\n",
      " 'United States, Hungary' 'United States, Hungary, Ireland, Canada'\n",
      " 'United States, Iceland' 'United States, India'\n",
      " 'United States, India, Bangladesh' 'United States, India, France'\n",
      " 'United States, India, South Korea, China'\n",
      " 'United States, India, United Arab Emirates'\n",
      " 'United States, India, United Kingdom' 'United States, Indonesia'\n",
      " 'United States, Ireland' 'United States, Ireland, United Kingdom, India'\n",
      " 'United States, Israel, Italy, South Africa'\n",
      " 'United States, Israel, United Kingdom, Canada' 'United States, Italy'\n",
      " 'United States, Italy, France, Japan'\n",
      " 'United States, Italy, Romania, United Kingdom'\n",
      " 'United States, Italy, United Kingdom, Liechtenstein'\n",
      " 'United States, Japan' 'United States, Japan, Canada'\n",
      " 'United States, Kazakhstan'\n",
      " 'United States, Malta, France, United Kingdom' 'United States, Mexico'\n",
      " 'United States, Mexico, Colombia' 'United States, Mexico, Spain, Malta'\n",
      " 'United States, Morocco' 'United States, Netherlands, Japan, France'\n",
      " 'United States, New Zealand' 'United States, New Zealand, Japan'\n",
      " 'United States, New Zealand, United Kingdom' 'United States, Nicaragua'\n",
      " 'United States, Nigeria' 'United States, Norway, Canada'\n",
      " 'United States, Philippines' 'United States, Poland'\n",
      " 'United States, Russia' 'United States, Senegal'\n",
      " 'United States, Singapore' 'United States, South Africa'\n",
      " 'United States, South Korea' 'United States, South Korea, China'\n",
      " 'United States, South Korea, Japan' 'United States, Spain'\n",
      " 'United States, Spain, Germany' 'United States, Sweden'\n",
      " 'United States, Sweden, Norway' 'United States, Switzerland'\n",
      " 'United States, Taiwan' 'United States, Thailand'\n",
      " 'United States, United Arab Emirates' 'United States, United Kingdom'\n",
      " 'United States, United Kingdom, Australia'\n",
      " 'United States, United Kingdom, Canada'\n",
      " 'United States, United Kingdom, Canada, China'\n",
      " 'United States, United Kingdom, Canada, Japan'\n",
      " 'United States, United Kingdom, Denmark, Sweden'\n",
      " 'United States, United Kingdom, France'\n",
      " 'United States, United Kingdom, France, Germany, Japan'\n",
      " 'United States, United Kingdom, Germany'\n",
      " 'United States, United Kingdom, Germany, Hungary'\n",
      " 'United States, United Kingdom, India'\n",
      " 'United States, United Kingdom, Italy'\n",
      " 'United States, United Kingdom, Japan'\n",
      " 'United States, United Kingdom, Morocco'\n",
      " 'United States, United Kingdom, New Zealand'\n",
      " 'United States, United Kingdom, Spain, South Korea'\n",
      " 'United States, Uruguay' 'United States, Venezuela' 'Uruguay'\n",
      " 'Uruguay, Argentina' 'Uruguay, Argentina, Germany, Spain'\n",
      " 'Uruguay, Argentina, Spain' 'Uruguay, Germany' 'Uruguay, Guatemala'\n",
      " 'Uruguay, Spain, Mexico' 'Venezuela' 'Venezuela, Colombia' 'Vietnam'\n",
      " 'West Germany' 'Zimbabwe']\n",
      "[   1    1   56    1    2    1    1    1    1    8    1    1    1    1\n",
      "    1   87    1    2    1    1    1    1    1    1    1    2    2    1\n",
      "    1    1   13    5    1    1    1    1    3    1    9    3    1    1\n",
      "    2    1    1   77    2    1    1    1    1    1    1    3    1    1\n",
      "    1    1  181    2    1    1    1    1    1    1    1    1    1    2\n",
      "    1    1    1    1    1    1    1    1    1    2    1    1    1    2\n",
      "    1    2   45    1    1    2    1    1    1    1    4    1   14    1\n",
      "    1    1    1    1    1    1    1   66    3    1   14    1    1    1\n",
      "    1    1    1    2    3    2    1    1    1   35    1    2    1    1\n",
      "    1    1    1    1    1    1    1    2   13    1    1    1    1    1\n",
      "    1    1    1    1    1    1    1    1    3    1  106    1    1    1\n",
      "    2    1    1    1    1    1    1    1  124    1    1   27    1    1\n",
      "    1    1    1    1    1    3    1    1    1    1    1    1    3    1\n",
      "    1    1    1    1    1    2    1    1    1    1    1    1    1    1\n",
      "    1    1    1    1    1    1    1    1    1    2   10    1    1    1\n",
      "    1    1   67    1    1    1    1    1    2    1    1    1    1    1\n",
      "    1    1    2    1   13    1    1    1    1    1    1    3    1    1\n",
      "    1   53    1   16    1    2    1    1    4    4    1    5    1  972\n",
      "    1    1    5    2    1    1    1    1    1    1    1    1    2    1\n",
      "    1    2    1    1    1   10   79    1    2    1    1    1    1   10\n",
      "    1    1    1    1    1    1    1    1    2    1    1    1    2    1\n",
      "    1    1   13    1    1    1    1    5   45    1    1    1    5    1\n",
      "    1    1    1    1    1    1    1    1    4    1    1  245    1    1\n",
      "   12    2    3    1    6    1   15    2    1    1    1    1    1    1\n",
      "    1    1   22    1    1    1  110    1    1    1    1    1    1    4\n",
      "   13    1    1    1   19    2    1    1    1    1    1    1    1   12\n",
      "    1    1    1    2   95    1   11    1    1    1    1    1    2    1\n",
      "    1    1   18    1    1    2    1    4    1    1   75    1    1    1\n",
      "    1    1   24    1    4    1    1    2    1    1    6    1    1    1\n",
      "    1   15    1    1    1    1    8    1    1    1    1    1    2   23\n",
      "    1    1    1    2    1    1   30    1    1    1    1    4    1    1\n",
      "    1  199    1    1    1    1    1    1    6    1  145    3    1    1\n",
      "    1    1    1    5    1    1    1    1    1    1    3    1    2    1\n",
      "    2    1    1    1    1    2    1    1   13    1    1    1    3    2\n",
      "    1    1    1    1    1    1    1   81    1    1    1    1   61    1\n",
      "    1    2  105    1    1    1    1    2    2   14    1    1    1    1\n",
      "    2    1  419    2    1    1    1    1    1    2    1    1    4    1\n",
      "    1    1    8    1    1    1    1    1    1    1    1    1    1    6\n",
      "    1    1    1    1    1    1    1    2    1    1    4    1    1    4\n",
      "    1    1    1    1    1    2    1    1    1    2    1    2    3    1\n",
      "    1    2    1    1    3    1    1    1    1    1    1    2    1    1\n",
      "    1    1    1    1    1    1    1    1    1    1    1    1    1    1\n",
      "    1   75    3    1    1    1    2    1    1    1    1    1    1    4\n",
      "    1 2818    1    2   11    1    1    1    1    1    1    1    1    1\n",
      "    1    1    4    1    1   73    1    1    1    1    1    1    1    1\n",
      "    3    1    8    1    1    2    1    3    1    5    1    1    1   16\n",
      "    1    1    1    1    1    1    7    1    1    1    1    1   17    1\n",
      "    3    1    1    1    1    1    2    1    1    3    1    1    1    9\n",
      "    1    1    1    1    1    1    3    1    1    1    5    1    1    1\n",
      "   16    2    1    1   14    1    1    1    1    5    1    1    1    2\n",
      "    1    1    1    4    1    1    3    2    2    1    4    1    3    1\n",
      "    1    1    2    3   47    4    2    1    1    1    4    1    2    1\n",
      "    1    1    1    1    1    1    1    1    3    1    1    1    1    1\n",
      "    1    1    1    7    1    1]\n"
     ]
    }
   ],
   "source": [
    "unique_type,count = np.unique(country,return_counts=True)\n",
    "print(unique_type)\n",
    "print(count)"
   ]
  },
  {
   "cell_type": "code",
   "execution_count": 32,
   "metadata": {},
   "outputs": [
    {
     "data": {
      "text/plain": [
       "748"
      ]
     },
     "execution_count": 32,
     "metadata": {},
     "output_type": "execute_result"
    }
   ],
   "source": [
    "type(unique_type)\n",
    "unique_type.size"
   ]
  },
  {
   "cell_type": "code",
   "execution_count": 34,
   "metadata": {},
   "outputs": [
    {
     "data": {
      "text/plain": [
       "748"
      ]
     },
     "execution_count": 34,
     "metadata": {},
     "output_type": "execute_result"
    }
   ],
   "source": [
    "type(count)\n",
    "count.size"
   ]
  },
  {
   "cell_type": "markdown",
   "metadata": {},
   "source": [
    "### Column Name: Release Year"
   ]
  },
  {
   "cell_type": "code",
   "execution_count": 38,
   "metadata": {},
   "outputs": [
    {
     "data": {
      "text/plain": [
       "array([2020, 2021, 2021, ..., 2009, 2006, 2015], shape=(8807,))"
      ]
     },
     "execution_count": 38,
     "metadata": {},
     "output_type": "execute_result"
    }
   ],
   "source": [
    "release_year = df['release_year'].dropna().to_numpy()\n",
    "release_year"
   ]
  },
  {
   "cell_type": "code",
   "execution_count": 42,
   "metadata": {},
   "outputs": [
    {
     "data": {
      "text/plain": [
       "array([2020, 2021, 2021, 2021, 2021, 2014, 2010, 2021, 2021, 2019, 2019,\n",
       "       2021, 2021, 2021, 2014, 1999, 1992, 1997, 2000, 2021, 2004, 2011,\n",
       "       2021, 2021, 2021, 2020, 2020, 2021, 2021, 2021, 2021, 2021, 2021,\n",
       "       2009, 2010, 2000, 2010, 2021, 2021, 2019, 2021, 2013, 2012, 2021,\n",
       "       2021, 2009, 2007, 2021, 2020, 2021, 2021, 2016, 2021, 2015, 2020,\n",
       "       2021, 2021, 2021, 2021, 2016, 1997, 2003, 2019, 2012, 2021, 2016,\n",
       "       2021, 1981, 2020, 2021, 2021, 2021, 2021, 2021, 2014, 2021, 2015,\n",
       "       2021, 2019, 2015, 2012, 1984, 2021, 2021, 2021, 2021, 2020, 2021,\n",
       "       2021, 2021, 2021, 2021, 2020, 2010, 2014, 2009, 2021, 2011, 2015,\n",
       "       2015])"
      ]
     },
     "execution_count": 42,
     "metadata": {},
     "output_type": "execute_result"
    }
   ],
   "source": [
    "release_year[:1000:10]"
   ]
  },
  {
   "cell_type": "markdown",
   "metadata": {},
   "source": [
    "#### Basic statistics "
   ]
  },
  {
   "cell_type": "code",
   "execution_count": 54,
   "metadata": {},
   "outputs": [
    {
     "name": "stdout",
     "output_type": "stream",
     "text": [
      "Average Release Year: 2014.1801975701146\n",
      "Median Release Year: 2017.0\n",
      "Oldest Movie Year: 1925\n",
      "Newest Movie Year: 2021\n"
     ]
    }
   ],
   "source": [
    "print(\"Average Release Year:\", np.mean(release_year))\n",
    "print(\"Median Release Year:\", np.median(release_year))\n",
    "print(\"Oldest Movie Year:\", np.min(release_year))\n",
    "print(\"Newest Movie Year:\", np.max(release_year))"
   ]
  },
  {
   "cell_type": "markdown",
   "metadata": {},
   "source": [
    "#### Find the Most Common Release Year"
   ]
  },
  {
   "cell_type": "code",
   "execution_count": 56,
   "metadata": {},
   "outputs": [
    {
     "name": "stdout",
     "output_type": "stream",
     "text": [
      "Most Common Release Year: 2018\n"
     ]
    }
   ],
   "source": [
    "unique_years, counts = np.unique(release_year, return_counts=True)\n",
    "most_common_year = unique_years[np.argmax(counts)]\n",
    "print(\"Most Common Release Year:\", most_common_year)\n"
   ]
  },
  {
   "cell_type": "markdown",
   "metadata": {},
   "source": [
    "#### Movies released after and befor 2018"
   ]
  },
  {
   "cell_type": "code",
   "execution_count": 57,
   "metadata": {},
   "outputs": [
    {
     "name": "stdout",
     "output_type": "stream",
     "text": [
      "Movies released after 2018: 2575\n",
      "Movies released before 2018: 5085\n"
     ]
    }
   ],
   "source": [
    "after = release_year[release_year > 2018]\n",
    "print(\"Movies released after 2018:\", len(after))\n",
    "before = release_year[release_year < 2018]\n",
    "print(\"Movies released before 2018:\", len(before))\n"
   ]
  },
  {
   "cell_type": "markdown",
   "metadata": {},
   "source": [
    "### Column Name: Duration"
   ]
  },
  {
   "cell_type": "code",
   "execution_count": 52,
   "metadata": {},
   "outputs": [
    {
     "data": {
      "text/plain": [
       "array([ 90,  91, 125, ...,  88,  88, 111], shape=(6128,))"
      ]
     },
     "execution_count": 52,
     "metadata": {},
     "output_type": "execute_result"
    }
   ],
   "source": [
    "duration = df['duration'].dropna().apply(lambda x: int(str(x).split(\" \")[0]) if \"min\" in str(x) else np.nan).dropna().to_numpy()\n",
    "duration = np.asarray(duration,dtype=int)\n",
    "duration"
   ]
  },
  {
   "cell_type": "code",
   "execution_count": 53,
   "metadata": {},
   "outputs": [
    {
     "data": {
      "text/plain": [
       "numpy.int64"
      ]
     },
     "execution_count": 53,
     "metadata": {},
     "output_type": "execute_result"
    }
   ],
   "source": [
    "type(duration[0])"
   ]
  },
  {
   "cell_type": "markdown",
   "metadata": {},
   "source": [
    "#### Basic statistics "
   ]
  },
  {
   "cell_type": "code",
   "execution_count": 55,
   "metadata": {},
   "outputs": [
    {
     "name": "stdout",
     "output_type": "stream",
     "text": [
      "Average Duration: 99.57718668407311\n",
      "Longest Movie Duration: 312\n",
      "Shortest Movie Duration: 3\n"
     ]
    }
   ],
   "source": [
    "print(\"Average Duration:\", np.mean(duration))\n",
    "print(\"Longest Movie Duration:\", np.max(duration))\n",
    "print(\"Shortest Movie Duration:\", np.min(duration))"
   ]
  },
  {
   "cell_type": "markdown",
   "metadata": {},
   "source": [
    "#### Movies longer than 120 mins"
   ]
  },
  {
   "cell_type": "code",
   "execution_count": 58,
   "metadata": {},
   "outputs": [
    {
     "name": "stdout",
     "output_type": "stream",
     "text": [
      "Movies longer than 120 minutes: 1142\n"
     ]
    }
   ],
   "source": [
    "long_movies = duration[duration > 120]\n",
    "print(\"Movies longer than 120 minutes:\", len(long_movies))\n"
   ]
  }
 ],
 "metadata": {
  "kernelspec": {
   "display_name": "Python 3",
   "language": "python",
   "name": "python3"
  },
  "language_info": {
   "codemirror_mode": {
    "name": "ipython",
    "version": 3
   },
   "file_extension": ".py",
   "mimetype": "text/x-python",
   "name": "python",
   "nbconvert_exporter": "python",
   "pygments_lexer": "ipython3",
   "version": "3.11.9"
  }
 },
 "nbformat": 4,
 "nbformat_minor": 2
}
